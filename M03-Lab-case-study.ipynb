{
 "cells": [
  {
   "cell_type": "code",
   "execution_count": null,
   "metadata": {},
   "outputs": [],
   "source": [
    "\n",
    "class Vehicle:\n",
    "    def __init__(self, vtype):\n",
    "        self.vtype = input(\"Enter vehicle type: \")\n",
    "\n",
    "    def description(self):\n",
    "        print(\"Vehicle type:\", self.vtype)\n",
    "\n",
    "\n",
    "\n",
    "\n",
    "\n",
    "\n",
    "\n",
    "\n",
    "class Automobile(Vehicle):\n",
    "\n",
    "    def __init__(self, vtype):\n",
    "        super().__init__(vtype)\n",
    "        self.year = int(input(\"Enter year of vehicle: \"))\n",
    "        self.make = str(input(\"Enter make of vehicle: \"))\n",
    "        self.model = input(\"Enter vechicle model: \")\n",
    "        self.doors = int(input(\"Enter number of doors (2 or 4): \"))\n",
    "        self.roof = str(input(\"Does this model have a sun roof? Y/N: \"))\n",
    "\n",
    "    def displayAutomobile(self):\n",
    "        print(\" Vehicle type:\",self.vtype,\"Year:\",self.year,'\\n',\"Make:\",self.make,\"\\n\",\"Model:\",self.model,\"\\n\",\"Number of doors:\",self.doors,\"\\n\",\"Sun roof?\",self.roof)\n",
    "\n",
    "\n",
    "\n",
    "\n",
    "\n",
    "car = Automobile(Vehicle)\n",
    "car.displayAutomobile()"
   ]
  }
 ],
 "metadata": {
  "kernelspec": {
   "display_name": "Python 3.11.0 64-bit",
   "language": "python",
   "name": "python3"
  },
  "language_info": {
   "name": "python",
   "version": "3.11.0"
  },
  "orig_nbformat": 4,
  "vscode": {
   "interpreter": {
    "hash": "83d9dbc64e29d41c50624375b455d24fdefe9aaaa317cb56df0869fc5a67ed2a"
   }
  }
 },
 "nbformat": 4,
 "nbformat_minor": 2
}
